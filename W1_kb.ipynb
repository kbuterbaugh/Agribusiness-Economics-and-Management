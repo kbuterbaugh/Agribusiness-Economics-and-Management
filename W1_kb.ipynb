{
 "cells": [
  {
   "cell_type": "code",
   "execution_count": null,
   "metadata": {},
   "outputs": [],
   "source": [
    "import numpy as np\n",
    "import matplotlib.pyplot as plt\n",
    "\n",
    "# Define price range\n",
    "price_range = np.linspace(0.1, 10, 100)\n",
    "\n",
    "# Demand functions\n",
    "def perfectly_inelastic_demand(price):\n",
    "    return np.ones_like(price) * 5  # Constant demand\n",
    "\n",
    "def constant_elasticity_demand(price, elasticity):\n",
    "    return 10 * price ** elasticity  # Constant elasticity demand\n",
    "\n",
    "# Create subplots\n",
    "fig, axs = plt.subplots(2, 2, figsize=(10, 8))\n",
    "\n",
    "# Plot Perfectly Inelastic Demand\n",
    "axs[0, 0].plot(price_range, perfectly_inelastic_demand(price_range), label='Perfectly Inelastic')\n",
    "axs[0, 0].set_title('Perfectly Inelastic Demand')\n",
    "axs[0, 0].set_xlabel('Price')\n",
    "axs[0, 0].set_ylabel('Quantity')\n",
    "axs[0, 0].legend()\n",
    "\n",
    "# Plot Perfectly Elastic Demand\n",
    "corresponding_range = np.full_like(price_range, 10)\n",
    "axs[0, 1].plot(corresponding_range,price_range,  label='Perfectly Elastic')\n",
    "axs[0, 1].set_title('Perfectly Elastic Demand')\n",
    "axs[0, 1].set_xlabel('Price')\n",
    "axs[0, 1].set_ylabel('Quantity')\n",
    "axs[0, 1].legend()\n",
    "\n",
    "# Plot Constant Elasticity Demand with elasticity = -1\n",
    "axs[1, 0].plot(price_range, constant_elasticity_demand(price_range, -1), label='Elasticity = -1')\n",
    "axs[1, 0].set_title('Constant Elasticity Demand (Elasticity = -1)')\n",
    "axs[1, 0].set_xlabel('Price')\n",
    "axs[1, 0].set_ylabel('Quantity')\n",
    "axs[1, 0].legend()\n",
    "\n",
    "# Plot Constant Elasticity Demand with elasticity = -0.4\n",
    "axs[1, 1].plot(price_range, constant_elasticity_demand(price_range, -0.4), label='Elasticity = -0.4')\n",
    "axs[1, 1].set_title('Constant Elasticity Demand (Elasticity = -0.4)')\n",
    "axs[1, 1].set_xlabel('Price')\n",
    "axs[1, 1].set_ylabel('Quantity')\n",
    "axs[1, 1].legend()\n",
    "\n",
    "# Adjust layout\n",
    "plt.tight_layout()\n",
    "\n",
    "# Show plot\n",
    "\n",
    "plt.show()"
   ]
  },
  {
   "cell_type": "code",
   "execution_count": null,
   "metadata": {},
   "outputs": [],
   "source": []
  }
 ],
 "metadata": {
  "kernelspec": {
   "display_name": "base",
   "language": "python",
   "name": "python3"
  },
  "language_info": {
   "codemirror_mode": {
    "name": "ipython",
    "version": 3
   },
   "file_extension": ".py",
   "mimetype": "text/x-python",
   "name": "python",
   "nbconvert_exporter": "python",
   "pygments_lexer": "ipython3",
   "version": "3.12.4"
  }
 },
 "nbformat": 4,
 "nbformat_minor": 2
}
